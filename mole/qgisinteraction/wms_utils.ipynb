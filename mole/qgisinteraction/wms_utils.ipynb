{
 "cells": [
  {
   "cell_type": "markdown",
   "metadata": {},
   "source": [
    "# qgisinteraction.wms_utils\n",
    "defines a class to handle wms without dependencies to qgis"
   ]
  },
  {
   "cell_type": "code",
   "execution_count": 8,
   "metadata": {
    "ExecuteTime": {
     "end_time": "2019-11-08T13:22:26.755105Z",
     "start_time": "2019-11-08T13:22:26.749193Z"
    }
   },
   "outputs": [
    {
     "name": "stdout",
     "output_type": "stream",
     "text": [
      "Overwriting wms_utils.py\n"
     ]
    }
   ],
   "source": [
    "%%writefile wms_utils.py\n",
    "\n",
    "import os, time\n",
    "from osgeo import gdal,osr\n",
    "from urllib.request import urlopen\n",
    "from urllib.parse import urlencode\n",
    "\n",
    "import os\n",
    "\n",
    "class wmsHandler(object):\n",
    "    def __init__(self,url,styles=\"0\",layers=\"0\",map_resolution=72,dpi=72,\n",
    "                 img_format=\"image/png\",format_options=\"dpi:72\",transparent=\"TRUE\",srs=\"EPSG:25833\",\n",
    "                 crs=\"EPSG:25833\",bbox=[385267.905618,5819602.01872,386734.721215,5819963.28486]\n",
    "                 ,request=\"GetMap\",height=454,width=1665,version=\"1.3.0\"):\n",
    "\n",
    "    \n",
    "        self.url = url\n",
    "        self.styles = styles\n",
    "        self.layers = layers\n",
    "        self.map_resolution = map_resolution\n",
    "        self.dpi = dpi\n",
    "        self.img_format = img_format\n",
    "        self.format_options = format_options\n",
    "        self.transparent = transparent\n",
    "        self.srs = srs\n",
    "        self.crs = crs\n",
    "        self.bbox = bbox\n",
    "        self.request = request\n",
    "        self.height = height\n",
    "        self.width = width\n",
    "        self.version = version\n",
    "\n",
    "\n",
    "    def url_string(self):\n",
    "    \n",
    "        url_param = {'SERVICE' : 'WMS',\n",
    "                     'REQUEST':'GetMap',\n",
    "                     'VERSION': self.version,\n",
    "                     'STYLES':self.styles,\n",
    "                     'LAYERS' : self.layers,\n",
    "                     'MAP_RESOLUTION':self.map_resolution,\n",
    "                     'DPI' : self.dpi,\n",
    "                     'FORMAT':self.img_format,\n",
    "                     'FORMAT_OPTIONS': self.format_options,\n",
    "                     'TRANSPARENT': self.transparent,\n",
    "                     'WIDTH' : self.width,\n",
    "                     'HEIGHT' : self.height,\n",
    "                     }\n",
    "\n",
    "\n",
    "        return(self.url + '?' + urlencode(url_param)+'&SRS=' + \n",
    "                self.srs + \"&CRS=\"+self.crs + \"&BBOX=\" + ','.join([str(i) for i in self.bbox]))\n",
    "                \n",
    "                \n",
    "    def asPNG(self,filename,timeout=300,debug=False):\n",
    "\n",
    "        with urlopen(self.url_string(), timeout=timeout) as wmscon:\n",
    "            if debug:\n",
    "                print(wmscon.geturl())\n",
    "                print(wmscon.info())\n",
    "                print(wmscon.getcode())\n",
    "            with open(filename, 'wb') as outf:\n",
    "                 outf.write(wmscon.read())\n",
    "\n",
    "        return(filename)        \n",
    "                \n",
    "    def asGeoTif(self,filename):\n",
    "        print(self.url_string())\n",
    "        tmpfilename = os.path.join(os.path.dirname(filename),\"tmp.png\")\n",
    "        src_ds = gdal.Open( self.asPNG(tmpfilename))\n",
    "        #print(self.bbox)\n",
    "        xmin, ymin, xmax, ymax = self.bbox\n",
    "        xres = (xmax - xmin) / float(self.width)\n",
    "        yres = (ymax - ymin) / float(self.height)\n",
    "        geotransform = (xmin, xres, 0, ymax, 0, -yres)\n",
    "        #print(xmin, xres, 0, ymax, 0, -yres)\n",
    "        driver = gdal.GetDriverByName( \"GTiff\" )\n",
    "\n",
    "        #Output to new format\n",
    "        dst_ds = driver.CreateCopy( filename, src_ds, 0 )\n",
    "\n",
    "\n",
    "        dst_ds.SetGeoTransform(geotransform)  \n",
    "\n",
    "        srs = osr.SpatialReference()            # establish encoding\n",
    "        srs.ImportFromEPSG(int(self.srs.split(':')[-1]))                # WGS84 lat/long\n",
    "        dst_ds.SetProjection(srs.ExportToWkt())\n",
    "\n",
    "        dst_ds.FlushCache()          \n",
    "\n",
    "\n",
    "        #Properly close the datasets to flush to disk\n",
    "        dst_ds = None\n",
    "        try:\n",
    "            os.remove(tmpfilename)\n",
    "        except:\n",
    "            pass\n",
    "        return(filename)\n",
    "\n",
    "\n",
    "\n",
    "def getWmsLegendUrl(layer): #Very quick and very dirty\n",
    "    url = None\n",
    "    try:\n",
    "        url=\"http\" +layer.metadata().split('LegendURLs')[1].split(\"image/\")[1].split(\"http\")[1].split(\"<\")[0]\n",
    "    except: pass\n",
    "    return url\n",
    "\n"
   ]
  },
  {
   "cell_type": "code",
   "execution_count": 10,
   "metadata": {
    "ExecuteTime": {
     "end_time": "2019-11-08T13:24:53.727541Z",
     "start_time": "2019-11-08T13:23:58.489204Z"
    }
   },
   "outputs": [
    {
     "name": "stdout",
     "output_type": "stream",
     "text": [
      "http://fbinter.stadt-berlin.de/fb/wms/senstadt/k06_06ewdichte2012?SERVICE=WMS&REQUEST=GetMap&VERSION=1.3.0&STYLES=0&LAYERS=0&MAP_RESOLUTION=72&DPI=72&FORMAT=image%2Fpng&FORMAT_OPTIONS=dpi%3A72&TRANSPARENT=TRUE&WIDTH=1665&HEIGHT=454&SRS=EPSG:25833&CRS=EPSG:25833&BBOX=385267.905618,5819602.01872,386734.721215,5819963.28486\n",
      "http://fbinter.stadt-berlin.de/fb/wms/senstadt/k06_06ewdichte2012?SERVICE=WMS&REQUEST=GetMap&VERSION=1.3.0&STYLES=0&LAYERS=0&MAP_RESOLUTION=72&DPI=72&FORMAT=image%2Fpng&FORMAT_OPTIONS=dpi%3A72&TRANSPARENT=TRUE&WIDTH=1665&HEIGHT=454&SRS=EPSG:25833&CRS=EPSG:25833&BBOX=385267.905618,5819602.01872,386734.721215,5819963.28486\n",
      "voodoo.tif\n"
     ]
    }
   ],
   "source": [
    "from wms_utils import wmsHandler\n",
    "\n",
    "xdichte= wmsHandler(\"http://fbinter.stadt-berlin.de/fb/wms/senstadt/k06_06ewdichte2012\")\n",
    "print(xdichte.url_string())                \n",
    "#print(xdichte.asPNG(\"Super.png\"))                \n",
    "print(xdichte.asGeoTif(\"voodoo.tif\"))  "
   ]
  },
  {
   "cell_type": "code",
   "execution_count": 3,
   "metadata": {
    "ExecuteTime": {
     "end_time": "2019-11-01T16:35:21.413015Z",
     "start_time": "2019-11-01T16:35:21.402941Z"
    }
   },
   "outputs": [
    {
     "data": {
      "text/plain": [
       "'/usg/sss'"
      ]
     },
     "execution_count": 3,
     "metadata": {},
     "output_type": "execute_result"
    }
   ],
   "source": [
    "import os\n",
    "os.path.dirname('/usg/sss/ll.tif')"
   ]
  },
  {
   "cell_type": "code",
   "execution_count": null,
   "metadata": {},
   "outputs": [],
   "source": [
    "http://fbinter.stadt-berlin.de/fb/wms/senstadt/k06_06ewdichte2012?STYLES=0&MAP_RESOLUTION=72\n",
    "    &SERVICE=WMS&FORMAT=image%2Fpng&REQUEST=GetMap&HEIGHT=454&WIDTH=1665&VERSION=1.1.1&DPI=72\n",
    "    &LAYERS=0&FORMAT_OPTIONS=dpi%3A72&TRANSPARENT=TRUE&SRS=EPSG:25833&CRS=EPSG:25833&\n",
    "            BBOX=385267.905618,5819602.01872,386734.721215,5819963.28486"
   ]
  }
 ],
 "metadata": {
  "hide_input": false,
  "kernelspec": {
   "display_name": "Python 2",
   "language": "python",
   "name": "python2"
  },
  "language_info": {
   "codemirror_mode": {
    "name": "ipython",
    "version": 3
   },
   "file_extension": ".py",
   "mimetype": "text/x-python",
   "name": "python",
   "nbconvert_exporter": "python",
   "pygments_lexer": "ipython3",
   "version": "3.7.4"
  },
  "toc": {
   "nav_menu": {},
   "number_sections": true,
   "sideBar": true,
   "skip_h1_title": false,
   "toc_cell": false,
   "toc_position": {},
   "toc_section_display": "block",
   "toc_window_display": true
  },
  "varInspector": {
   "cols": {
    "lenName": 16,
    "lenType": 16,
    "lenVar": 40
   },
   "kernels_config": {
    "python": {
     "delete_cmd_postfix": "",
     "delete_cmd_prefix": "del ",
     "library": "var_list.py",
     "varRefreshCmd": "print(var_dic_list())"
    },
    "r": {
     "delete_cmd_postfix": ") ",
     "delete_cmd_prefix": "rm(",
     "library": "var_list.r",
     "varRefreshCmd": "cat(var_dic_list()) "
    }
   },
   "types_to_exclude": [
    "module",
    "function",
    "builtin_function_or_method",
    "instance",
    "_Feature"
   ],
   "window_display": false
  }
 },
 "nbformat": 4,
 "nbformat_minor": 2
}
